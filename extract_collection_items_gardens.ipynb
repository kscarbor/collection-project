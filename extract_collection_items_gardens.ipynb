{
 "cells": [
  {
   "cell_type": "markdown",
   "metadata": {},
   "source": [
    "# Extract (Harvest) Item Metadata and Files\n",
    "\n",
    "This notebook demonstrates the next step in the generalized workflow\n",
    "to develop your reference digital collections. \n",
    "We will walk through each step in class, but you will need to adapt these demonstrations\n",
    "so that they work for your own collections, so this work will also be self-guided.\n",
    "\n",
    "## ETL Workflow\n",
    "\n",
    "The overarching process here follows a generalized \"Extract - Transform - Load\" workflow.This is an abstract model for pulling data from one system, transporting, cleaning, and outputting to another system.\n",
    "While often in reference to database work and data engineering, the goals here are the same for our digital collections:\n",
    "**extract** the metadata from the Library of Congress, change (**transform**) it into structures that makes sense to our collection systems (CollectionBuilder and Omeka),\n",
    "then ingest (**load**) that data and associated content into the systems.\n",
    "\n",
    "## Learning objectives\n",
    "\n",
    "After completing the course assignment, you should: \n",
    "\n",
    "* Have a conceptual and a practical understanding of how collection metadata is made available by a REST API.\n",
    "* Be able to explain the concept of metadata extraction and transformation.\n",
    "* Create a structure for documenting metadata practices in a collection or repository (a Metadata Application Profile) and implement that structure for transformations. \n",
    "* Use programming to work with data supplied by an API in JSON format, to manage and transform useful parts of that data into CSV format.\n",
    "* Create ingest-ready collection metadata that conforms to Dublin Core and other digital collection metadata standards, which can be used to load content into another site (in this case, an Omeka S site). \n",
    "\n",
    "## Introduction: Get Item Metadata and Content\n",
    "\n",
    "This notebook outlines the second steps of the extract process to demonstrate gathering items. In this notebook:\n",
    "\n",
    "**Get item metadata**. Using the list from the previous step (extract collection list), use that as a source to query each item in the collection to get details about it. Save the JSON responses locally so we can extract information from them in the next steps. (In this example, you will create a maximum of 62 item files, but it is likely that some will not be accessible or available. This number may vary when you run this code yourself since the website may have different response rates.)\n",
    "\n",
    "### Setup"
   ]
  },
  {
   "cell_type": "code",
   "execution_count": 10,
   "metadata": {},
   "outputs": [],
   "source": [
    "import csv\n",
    "import json\n",
    "import requests\n",
    "\n",
    "# for working with files\n",
    "import os\n",
    "from os.path import join"
   ]
  },
  {
   "cell_type": "markdown",
   "metadata": {},
   "source": [
    "A helper function to regenerate the collection list from the previously created CSV file."
   ]
  },
  {
   "cell_type": "code",
   "execution_count": 11,
   "metadata": {},
   "outputs": [],
   "source": [
    "def regenerate_collection_list(collection_csv):\n",
    "    \"\"\"\n",
    "    Reads a CSV file and returns the data as a dictionary.\n",
    "    \n",
    "    Parameters:\n",
    "    collection_csv (str): The path to the CSV file\n",
    "\n",
    "    Returns:\n",
    "    dict: A dictionary where each key is a column header and each value is a list of column values.\n",
    "    \"\"\"\n",
    "\n",
    "    coll_items = list()\n",
    "\n",
    "    with open(collection_csv, 'r', newline='', encoding='utf-8') as f:\n",
    "        data = csv.DictReader(f)\n",
    "\n",
    "        for row in data:\n",
    "            row_dict = dict()\n",
    "            for field in data.fieldnames:\n",
    "                row_dict[field] = row[field]\n",
    "            coll_items.append(row_dict)\n",
    "\n",
    "        return coll_items"
   ]
  },
  {
   "cell_type": "code",
   "execution_count": 12,
   "metadata": {},
   "outputs": [],
   "source": [
    "collection_csv = os.path.join('collection_set_list_gardens.csv')\n",
    "\n",
    "collection_set_list = regenerate_collection_list(collection_csv)"
   ]
  },
  {
   "cell_type": "code",
   "execution_count": 13,
   "metadata": {},
   "outputs": [
    {
     "data": {
      "text/plain": [
       "{'alt': 'Blooming cactus plant and several smaller flowering plants nearby.',\n",
       " 'image': '/static/portals/free-to-use/public-domain/gardens/gardens-1.jpg',\n",
       " 'link': '/resource/highsm.16140/',\n",
       " 'title': 'Flowers, including a blooming cactus, at the Desert Botanical Garden, Phoenix, Arizona. Photo by Carol M. Highsmith, around 2000.'}"
      ]
     },
     "execution_count": 13,
     "metadata": {},
     "output_type": "execute_result"
    }
   ],
   "source": [
    "collection_set_list[0]"
   ]
  },
  {
   "cell_type": "markdown",
   "metadata": {},
   "source": [
    "## Get metadata for individual items \n",
    "\n",
    "Now that you have the list of what is in the set, this can serve as your baseline collection information. Next, you want to get more complete information about each item. Details about these items are available on individual item pages, so now we have to look at a different location, as specified in the `'link'` fields of the item list."
   ]
  },
  {
   "cell_type": "code",
   "execution_count": 15,
   "metadata": {},
   "outputs": [],
   "source": [
    "# update baseURL\n",
    "baseURL = 'https://www.loc.gov'\n",
    "parameters = {\n",
    "    'fo' : 'json'\n",
    "}"
   ]
  },
  {
   "cell_type": "markdown",
   "metadata": {},
   "source": [
    "The task now is to request metadata for each item. So that the data is reusable, save it locally as a JSON file. In the next blocks, you will create individual files for each item, which will save to a directory named `item-metadata` in the `collection-project` directory. \n",
    "\n",
    "If you don't have that directory, you will first need to create it. "
   ]
  },
  {
   "cell_type": "code",
   "execution_count": 16,
   "metadata": {},
   "outputs": [
    {
     "name": "stdout",
     "output_type": "stream",
     "text": [
      "item-metadata-gardens exists\n"
     ]
    }
   ],
   "source": [
    "# run this cell to confirm that you have a location for the JSON files\n",
    "item_metadata_directory = os.path.join('item-metadata-gardens')\n",
    "\n",
    "if os.path.isdir(item_metadata_directory):\n",
    "    print(item_metadata_directory,'exists')\n",
    "else:\n",
    "    os.mkdir(item_metadata_directory)\n",
    "    print('created',item_metadata_directory)"
   ]
  },
  {
   "cell_type": "markdown",
   "metadata": {},
   "source": [
    "Now, with the `collection_set_list`, use the included links to query the API for metadata for each item:"
   ]
  },
  {
   "cell_type": "code",
   "execution_count": 17,
   "metadata": {},
   "outputs": [
    {
     "name": "stdout",
     "output_type": "stream",
     "text": [
      "requested https://www.loc.gov/resource/highsm.16140/?fo=json 200\n",
      "wrote item-metadata-gardens\\item_metadata-highsm.16140.json\n",
      "requested https://www.loc.gov/resource/cph.3g05158/?fo=json 200\n",
      "wrote item-metadata-gardens\\item_metadata-cph.3g05158.json\n",
      "requested https://www.loc.gov/resource/ppmsca.16216/?fo=json 200\n",
      "wrote item-metadata-gardens\\item_metadata-ppmsca.16216.json\n",
      "requested https://www.loc.gov/resource/highsm.51078/?fo=json 200\n",
      "wrote item-metadata-gardens\\item_metadata-highsm.51078.json\n",
      "requested https://www.loc.gov/resource/cph.3c30923/?fo=json 200\n",
      "wrote item-metadata-gardens\\item_metadata-cph.3c30923.json\n",
      "requested https://www.loc.gov/resource/ppmsca.38775/?fo=json 200\n",
      "wrote item-metadata-gardens\\item_metadata-ppmsca.38775.json\n",
      "requested https://www.loc.gov/resource/ppmsca.16143/?fo=json 200\n",
      "wrote item-metadata-gardens\\item_metadata-ppmsca.16143.json\n",
      "requested https://www.loc.gov/resource/ppmsca.16752/?fo=json 200\n",
      "wrote item-metadata-gardens\\item_metadata-ppmsca.16752.json\n",
      "requested https://www.loc.gov/resource/fsa.8b14514/?fo=json 200\n",
      "wrote item-metadata-gardens\\item_metadata-fsa.8b14514.json\n",
      "requested https://www.loc.gov/resource/stereo.1s00324/?fo=json 200\n",
      "wrote item-metadata-gardens\\item_metadata-stereo.1s00324.json\n",
      "requested https://www.loc.gov/resource/highsm.18085/?fo=json 200\n",
      "wrote item-metadata-gardens\\item_metadata-highsm.18085.json\n",
      "requested https://www.loc.gov/resource/highsm.17208/?fo=json 200\n",
      "wrote item-metadata-gardens\\item_metadata-highsm.17208.json\n",
      "requested https://www.loc.gov/resource/ppmsca.16693/?fo=json 200\n",
      "wrote item-metadata-gardens\\item_metadata-ppmsca.16693.json\n",
      "requested https://www.loc.gov/resource/ppmsca.83823/?fo=json 200\n",
      "wrote item-metadata-gardens\\item_metadata-ppmsca.83823.json\n",
      "requested https://www.loc.gov/resource/hhh.ma1202.sheet/?sp=12&fo=json 200\n",
      "wrote item-metadata-gardens\\item_metadata-hhh.ma1202.sheet.json\n",
      "requested https://www.loc.gov/resource/pga.14314/?fo=json 200\n",
      "wrote item-metadata-gardens\\item_metadata-pga.14314.json\n",
      "requested https://www.loc.gov/resource/stereo.1s04657/?fo=json 200\n",
      "wrote item-metadata-gardens\\item_metadata-stereo.1s04657.json\n",
      "requested https://www.loc.gov/resource/stereo.1s07844/?fo=json 200\n",
      "wrote item-metadata-gardens\\item_metadata-stereo.1s07844.json\n",
      "requested https://www.loc.gov/resource/stereo.1s06147/?fo=json 200\n",
      "wrote item-metadata-gardens\\item_metadata-stereo.1s06147.json\n",
      "requested https://www.loc.gov/resource/ppmsc.08589/?fo=json 200\n",
      "wrote item-metadata-gardens\\item_metadata-ppmsc.08589.json\n",
      "requested https://www.loc.gov/resource/ppmsc.05210/?fo=json 200\n",
      "wrote item-metadata-gardens\\item_metadata-ppmsc.05210.json\n",
      "requested https://www.loc.gov/resource/wtc.4a03254/?fo=json 200\n",
      "wrote item-metadata-gardens\\item_metadata-wtc.4a03254.json\n",
      "requested https://www.loc.gov/resource/ppmsca.83865/?fo=json 200\n",
      "wrote item-metadata-gardens\\item_metadata-ppmsca.83865.json\n",
      "requested https://www.loc.gov/resource/cph.3a25266/?fo=json 200\n",
      "wrote item-metadata-gardens\\item_metadata-cph.3a25266.json\n",
      "requested https://www.loc.gov/resource/stereo.1s08717/?fo=json 200\n",
      "wrote item-metadata-gardens\\item_metadata-stereo.1s08717.json\n",
      "requested https://www.loc.gov/resource/stereo.1s30968/?fo=json 200\n",
      "wrote item-metadata-gardens\\item_metadata-stereo.1s30968.json\n",
      "requested https://www.loc.gov/resource/stereo.1s26666/?fo=json 200\n",
      "wrote item-metadata-gardens\\item_metadata-stereo.1s26666.json\n",
      "requested https://www.loc.gov/resource/stereo.1s38444/?fo=json 200\n",
      "wrote item-metadata-gardens\\item_metadata-stereo.1s38444.json\n",
      "requested https://www.loc.gov/resource/npcc.20263/?fo=json 200\n",
      "wrote item-metadata-gardens\\item_metadata-npcc.20263.json\n",
      "requested https://www.loc.gov/resource/ppmsca.67920/?fo=json 200\n",
      "wrote item-metadata-gardens\\item_metadata-ppmsca.67920.json\n",
      "requested https://www.loc.gov/resource/ppmsca.16801/?fo=json 404\n",
      "requested https://www.loc.gov/resource/ppmsca.16801/?fo=json 404\n",
      "requested https://www.loc.gov/resource/ppmsca.16226/?fo=json 200\n",
      "wrote item-metadata-gardens\\item_metadata-ppmsca.16226.json\n",
      "requested https://www.loc.gov/resource/stereo.1s31930/?fo=json 200\n",
      "wrote item-metadata-gardens\\item_metadata-stereo.1s31930.json\n",
      "requested https://www.loc.gov/resource/ggbain.01389/?fo=json 200\n",
      "wrote item-metadata-gardens\\item_metadata-ggbain.01389.json\n",
      "requested https://www.loc.gov/resource/thc.5a50527/?fo=json 200\n",
      "wrote item-metadata-gardens\\item_metadata-thc.5a50527.json\n",
      "requested https://www.loc.gov/resource/ppmsca.16211/?fo=json 200\n",
      "wrote item-metadata-gardens\\item_metadata-ppmsca.16211.json\n",
      "requested https://www.loc.gov/resource/ds.13761/?fo=json 200\n",
      "wrote item-metadata-gardens\\item_metadata-ds.13761.json\n",
      "requested https://www.loc.gov/resource/ds.03659/?fo=json 200\n",
      "wrote item-metadata-gardens\\item_metadata-ds.03659.json\n",
      "requested https://www.loc.gov/resource/fsa.8a19113/?fo=json 200\n",
      "wrote item-metadata-gardens\\item_metadata-fsa.8a19113.json\n",
      "requested https://www.loc.gov/resource/fsa.8b14071/?fo=json 200\n",
      "wrote item-metadata-gardens\\item_metadata-fsa.8b14071.json\n",
      "requested https://www.loc.gov/resource/fsa.8c19781/?fo=json 200\n",
      "wrote item-metadata-gardens\\item_metadata-fsa.8c19781.json\n",
      "requested https://www.loc.gov/resource/cph.3f05737/?fo=json 200\n",
      "wrote item-metadata-gardens\\item_metadata-cph.3f05737.json\n",
      "requested https://www.loc.gov/resource/fsa.8d21091/?fo=json 200\n",
      "wrote item-metadata-gardens\\item_metadata-fsa.8d21091.json\n",
      "requested https://www.loc.gov/resource/fsa.8d31670/?fo=json 200\n",
      "wrote item-metadata-gardens\\item_metadata-fsa.8d31670.json\n",
      "requested https://www.loc.gov/resource/hhh.ca1376.photos/?sp=60&fo=json 200\n",
      "wrote item-metadata-gardens\\item_metadata-hhh.ca1376.photos.json\n",
      "requested https://www.loc.gov/resource/mrg.00279/?fo=json 200\n",
      "wrote item-metadata-gardens\\item_metadata-mrg.00279.json\n",
      "requested https://www.loc.gov/resource/afc1999008.afc1999008_crf_mhc05407/?fo=json 200\n",
      "wrote item-metadata-gardens\\item_metadata-afc1999008.afc1999008_crf_mhc05407.json\n",
      "requested https://www.loc.gov/resource/highsm.13145/?fo=json 200\n",
      "wrote item-metadata-gardens\\item_metadata-highsm.13145.json\n",
      "requested https://www.loc.gov/resource/highsm.58260/?fo=json 200\n",
      "wrote item-metadata-gardens\\item_metadata-highsm.58260.json\n",
      "--- mini LOG ---\n",
      "items requested: 48\n",
      "errors: 1\n",
      "files written: 48\n"
     ]
    }
   ],
   "source": [
    "item_count = 0\n",
    "error_count = 0\n",
    "file_count = 0\n",
    "\n",
    "item_metadata_directory = 'item-metadata-gardens'\n",
    "item_metadata_file_prefix = 'item_metadata'\n",
    "json_suffix = '.json'\n",
    "\n",
    "for item in collection_set_list:\n",
    "    if item['link'] == 'link':\n",
    "        continue\n",
    "    # these resource links could redirect to item pages, but currently don't work\n",
    "    if '?' in item['link']:\n",
    "        resource_ID = item['link']\n",
    "        short_ID = item['link'].split('/')[2]\n",
    "        item_metadata = requests.get(baseURL + resource_ID, params={'fo':'json'})\n",
    "        print('requested',item_metadata.url,item_metadata.status_code)\n",
    "        if item_metadata.status_code != 200:\n",
    "            print('requested',item_metadata.url,item_metadata.status_code)\n",
    "            error_count += 1\n",
    "            continue\n",
    "        try:\n",
    "            item_metadata.json()\n",
    "        except: #basically this catches all of the highsmith photos with hhh in the ID\n",
    "            error_count += 1\n",
    "            print('no json found')\n",
    "            continue\n",
    "        fout = os.path.join(item_metadata_directory, str(item_metadata_file_prefix + '-' + short_ID + json_suffix))\n",
    "        with open(fout, 'w', encoding='utf-8') as json_file:\n",
    "            json_file.write(json.dumps(item_metadata.json()['item']))\n",
    "            file_count += 1\n",
    "            print('wrote', fout)\n",
    "        item_count += 1\n",
    "    else:\n",
    "        resource_ID = item['link']\n",
    "        short_ID = item['link'].split('/')[2]\n",
    "        item_metadata = requests.get(baseURL + resource_ID, params={'fo':'json'})\n",
    "        print('requested',item_metadata.url,item_metadata.status_code)\n",
    "        if item_metadata.status_code != 200:\n",
    "            print('requested',item_metadata.url,item_metadata.status_code)\n",
    "            error_count += 1\n",
    "            continue\n",
    "        try:\n",
    "            item_metadata.json()\n",
    "        except:\n",
    "            error_count += 1\n",
    "            print('no json found')\n",
    "            continue\n",
    "        fout = os.path.join(item_metadata_directory, str(item_metadata_file_prefix + '-' + short_ID + json_suffix))\n",
    "        with open(fout, 'w', encoding='utf-8') as json_file:\n",
    "            json_file.write(json.dumps(item_metadata.json()['item']))\n",
    "            file_count += 1\n",
    "            print('wrote', fout)\n",
    "        item_count += 1\n",
    "\n",
    "print('--- mini LOG ---')\n",
    "print('items requested:',item_count)\n",
    "print('errors:',error_count)\n",
    "print('files written:',file_count)"
   ]
  },
  {
   "cell_type": "markdown",
   "metadata": {},
   "source": [
    "## Get files for items\n",
    "\n",
    "This section uses the file processing libraries and saves an image file for each item.\n",
    "\n",
    "First, check to confirm that there is a directory in the `collection-project` folder:"
   ]
  },
  {
   "cell_type": "code",
   "execution_count": 18,
   "metadata": {},
   "outputs": [
    {
     "name": "stdout",
     "output_type": "stream",
     "text": [
      "Checking for /Users\\kenda\\Desktop\\si676-networked-information-services\\Collection Project\\item-files-gardens\n",
      "Created file directory: /Users\\kenda\\Desktop\\si676-networked-information-services\\Collection Project\\item-files-gardens\n"
     ]
    }
   ],
   "source": [
    "main_dir = os.path.join('/','Users','kenda','Desktop','si676-networked-information-services')\n",
    "project_dir = 'Collection Project'\n",
    "files_dir = 'item-files-gardens'\n",
    "metadata_dir = 'item-metadata-gardens'\n",
    "\n",
    "files_loc = os.path.join(main_dir,project_dir,files_dir)\n",
    "print('Checking for',files_loc)\n",
    "\n",
    "# check directory\n",
    "if os.path.isdir(files_loc):\n",
    "    print('Files directory exists')\n",
    "else:\n",
    "    os.mkdir(files_loc)\n",
    "    print('Created file directory:',files_loc)"
   ]
  },
  {
   "cell_type": "markdown",
   "metadata": {},
   "source": [
    "Now, since you have the local files, it is no longer necessary to\n",
    "harvest the data using requests. You can use the `glob` library to\n",
    "search for files with filters and wildcards similar to the `ls` command. "
   ]
  },
  {
   "cell_type": "code",
   "execution_count": 19,
   "metadata": {},
   "outputs": [],
   "source": [
    "import glob"
   ]
  },
  {
   "cell_type": "markdown",
   "metadata": {},
   "source": [
    "Create a list of the item metadata files:"
   ]
  },
  {
   "cell_type": "code",
   "execution_count": 20,
   "metadata": {},
   "outputs": [
    {
     "name": "stdout",
     "output_type": "stream",
     "text": [
      "..\\Collection Project\\item-metadata-gardens\n",
      "['..\\\\Collection Project\\\\item-metadata-gardens\\\\item_metadata-afc1999008.afc1999008_crf_mhc05407.json', '..\\\\Collection Project\\\\item-metadata-gardens\\\\item_metadata-cph.3a25266.json', '..\\\\Collection Project\\\\item-metadata-gardens\\\\item_metadata-cph.3c30923.json', '..\\\\Collection Project\\\\item-metadata-gardens\\\\item_metadata-cph.3f05737.json', '..\\\\Collection Project\\\\item-metadata-gardens\\\\item_metadata-cph.3g05158.json', '..\\\\Collection Project\\\\item-metadata-gardens\\\\item_metadata-ds.03659.json', '..\\\\Collection Project\\\\item-metadata-gardens\\\\item_metadata-ds.13761.json', '..\\\\Collection Project\\\\item-metadata-gardens\\\\item_metadata-fsa.8a19113.json', '..\\\\Collection Project\\\\item-metadata-gardens\\\\item_metadata-fsa.8b14071.json', '..\\\\Collection Project\\\\item-metadata-gardens\\\\item_metadata-fsa.8b14514.json', '..\\\\Collection Project\\\\item-metadata-gardens\\\\item_metadata-fsa.8c19781.json', '..\\\\Collection Project\\\\item-metadata-gardens\\\\item_metadata-fsa.8d21091.json', '..\\\\Collection Project\\\\item-metadata-gardens\\\\item_metadata-fsa.8d31670.json', '..\\\\Collection Project\\\\item-metadata-gardens\\\\item_metadata-ggbain.01389.json', '..\\\\Collection Project\\\\item-metadata-gardens\\\\item_metadata-hhh.ca1376.photos.json', '..\\\\Collection Project\\\\item-metadata-gardens\\\\item_metadata-hhh.ma1202.sheet.json', '..\\\\Collection Project\\\\item-metadata-gardens\\\\item_metadata-highsm.13145.json', '..\\\\Collection Project\\\\item-metadata-gardens\\\\item_metadata-highsm.16140.json', '..\\\\Collection Project\\\\item-metadata-gardens\\\\item_metadata-highsm.17208.json', '..\\\\Collection Project\\\\item-metadata-gardens\\\\item_metadata-highsm.18085.json', '..\\\\Collection Project\\\\item-metadata-gardens\\\\item_metadata-highsm.51078.json', '..\\\\Collection Project\\\\item-metadata-gardens\\\\item_metadata-highsm.58260.json', '..\\\\Collection Project\\\\item-metadata-gardens\\\\item_metadata-mrg.00279.json', '..\\\\Collection Project\\\\item-metadata-gardens\\\\item_metadata-npcc.20263.json', '..\\\\Collection Project\\\\item-metadata-gardens\\\\item_metadata-pga.14314.json', '..\\\\Collection Project\\\\item-metadata-gardens\\\\item_metadata-ppmsc.05210.json', '..\\\\Collection Project\\\\item-metadata-gardens\\\\item_metadata-ppmsc.08589.json', '..\\\\Collection Project\\\\item-metadata-gardens\\\\item_metadata-ppmsca.16143.json', '..\\\\Collection Project\\\\item-metadata-gardens\\\\item_metadata-ppmsca.16211.json', '..\\\\Collection Project\\\\item-metadata-gardens\\\\item_metadata-ppmsca.16216.json', '..\\\\Collection Project\\\\item-metadata-gardens\\\\item_metadata-ppmsca.16226.json', '..\\\\Collection Project\\\\item-metadata-gardens\\\\item_metadata-ppmsca.16693.json', '..\\\\Collection Project\\\\item-metadata-gardens\\\\item_metadata-ppmsca.16752.json', '..\\\\Collection Project\\\\item-metadata-gardens\\\\item_metadata-ppmsca.38775.json', '..\\\\Collection Project\\\\item-metadata-gardens\\\\item_metadata-ppmsca.67920.json', '..\\\\Collection Project\\\\item-metadata-gardens\\\\item_metadata-ppmsca.83823.json', '..\\\\Collection Project\\\\item-metadata-gardens\\\\item_metadata-ppmsca.83865.json', '..\\\\Collection Project\\\\item-metadata-gardens\\\\item_metadata-stereo.1s00324.json', '..\\\\Collection Project\\\\item-metadata-gardens\\\\item_metadata-stereo.1s04657.json', '..\\\\Collection Project\\\\item-metadata-gardens\\\\item_metadata-stereo.1s06147.json', '..\\\\Collection Project\\\\item-metadata-gardens\\\\item_metadata-stereo.1s07844.json', '..\\\\Collection Project\\\\item-metadata-gardens\\\\item_metadata-stereo.1s08717.json', '..\\\\Collection Project\\\\item-metadata-gardens\\\\item_metadata-stereo.1s26666.json', '..\\\\Collection Project\\\\item-metadata-gardens\\\\item_metadata-stereo.1s30968.json', '..\\\\Collection Project\\\\item-metadata-gardens\\\\item_metadata-stereo.1s31930.json', '..\\\\Collection Project\\\\item-metadata-gardens\\\\item_metadata-stereo.1s38444.json', '..\\\\Collection Project\\\\item-metadata-gardens\\\\item_metadata-thc.5a50527.json', '..\\\\Collection Project\\\\item-metadata-gardens\\\\item_metadata-wtc.4a03254.json']\n"
     ]
    }
   ],
   "source": [
    "search_for_metadata_here = os.path.join('..',project_dir,metadata_dir)\n",
    "\n",
    "print(search_for_metadata_here)\n",
    "\n",
    "metadata_file_list = glob.glob(search_for_metadata_here + '/*.json')\n",
    "\n",
    "print(metadata_file_list)"
   ]
  },
  {
   "cell_type": "markdown",
   "metadata": {},
   "source": [
    "Identify the Image URLs from the stored data:"
   ]
  },
  {
   "cell_type": "code",
   "execution_count": 21,
   "metadata": {},
   "outputs": [
    {
     "name": "stdout",
     "output_type": "stream",
     "text": [
      "Identified 48 image URLs\n"
     ]
    }
   ],
   "source": [
    "item_image_urls = list()\n",
    "count = 0\n",
    "\n",
    "for item in metadata_file_list:\n",
    "    with open(item, 'r', encoding='utf-8') as f:\n",
    "        metadata = json.load(f)\n",
    "        # noted this resource for working out index out of range errors: https://rollbar.com/blog/how-to-fix-python-list-index-out-of-range-error-in-for-loops/\n",
    "        image_url_no = len(metadata['image_url'])\n",
    "        image_url = metadata['image_url'][-1]\n",
    "        item_image_urls.append(image_url)\n",
    "        count += 1\n",
    "\n",
    "print(f'Identified { str(count) } image URLs')"
   ]
  },
  {
   "cell_type": "code",
   "execution_count": 22,
   "metadata": {},
   "outputs": [
    {
     "data": {
      "text/plain": [
       "['https://tile.loc.gov/image-services/iiif/service:afc:afc1999008:afc1999008_crf_mhc05407/full/pct:100/0/default.jpg#h=2776&w=4096',\n",
       " 'https://tile.loc.gov/storage-services/service/pnp/cph/3a20000/3a25000/3a25200/3a25266r.jpg#h=497&w=640',\n",
       " 'https://tile.loc.gov/storage-services/service/pnp/cph/3c30000/3c30000/3c30900/3c30923v.jpg#h=817&w=1024',\n",
       " 'https://tile.loc.gov/storage-services/service/pnp/cph/3f00000/3f05000/3f05700/3f05737v.jpg#h=702&w=1024',\n",
       " 'https://tile.loc.gov/storage-services/service/pnp/cph/3g00000/3g05000/3g05100/3g05158v.jpg#h=1024&w=806',\n",
       " 'https://tile.loc.gov/storage-services/service/pnp/ds/03600/03659v.jpg#h=831&w=1024',\n",
       " 'https://tile.loc.gov/storage-services/service/pnp/ds/13700/13761v.jpg#h=889&w=1024',\n",
       " 'https://tile.loc.gov/storage-services/service/pnp/fsa/8a19000/8a19100/8a19113v.jpg#h=717&w=1024',\n",
       " 'https://tile.loc.gov/storage-services/service/pnp/fsa/8b14000/8b14000/8b14071v.jpg#h=1024&w=776',\n",
       " 'https://tile.loc.gov/storage-services/service/pnp/fsa/8b14000/8b14500/8b14514v.jpg#h=792&w=1024',\n",
       " 'https://tile.loc.gov/storage-services/service/pnp/fsa/8c19000/8c19700/8c19781v.jpg#h=759&w=1024',\n",
       " 'https://tile.loc.gov/storage-services/service/pnp/fsa/8d21000/8d21000/8d21091v.jpg#h=1012&w=1024',\n",
       " 'https://tile.loc.gov/storage-services/service/pnp/fsa/8d31000/8d31600/8d31670v.jpg#h=1024&w=988',\n",
       " 'https://tile.loc.gov/storage-services/service/pnp/ggbain/01300/01389v.jpg#h=793&w=1024',\n",
       " 'https://tile.loc.gov/storage-services/service/pnp/habshaer/ca/ca1300/ca1376/photos/015410pv.jpg#h=952&w=1024',\n",
       " 'https://tile.loc.gov/storage-services/service/pnp/habshaer/ma/ma1200/ma1202/sheet/00000v.jpg#h=829&w=1024',\n",
       " 'https://tile.loc.gov/image-services/iiif/service:pnp:highsm:13100:13145/full/pct:25/0/default.jpg#h=2322&w=1801',\n",
       " 'https://tile.loc.gov/image-services/iiif/service:pnp:highsm:16100:16140/full/pct:25/0/default.jpg#h=1640&w=1278',\n",
       " 'https://tile.loc.gov/image-services/iiif/service:pnp:highsm:17200:17208/full/pct:25/0/default.jpg#h=1188&w=1542',\n",
       " 'https://tile.loc.gov/image-services/iiif/service:pnp:highsm:18000:18085/full/pct:25/0/default.jpg#h=1618&w=1262',\n",
       " 'https://tile.loc.gov/storage-services/service/pnp/highsm/51000/51078v.jpg#h=1024&w=736',\n",
       " 'https://tile.loc.gov/storage-services/service/pnp/highsm/58200/58260v.jpg#h=768&w=1024',\n",
       " 'https://tile.loc.gov/storage-services/service/pnp/mrg/00200/00279v.jpg#h=688&w=1024',\n",
       " 'https://tile.loc.gov/storage-services/service/pnp/npcc/20200/20263v.jpg#h=753&w=1024',\n",
       " 'https://tile.loc.gov/storage-services/service/pnp/pga/14300/14314v.jpg#h=756&w=1024',\n",
       " 'https://tile.loc.gov/storage-services/service/pnp/ppmsc/05200/05210v.jpg#h=762&w=1024',\n",
       " 'https://tile.loc.gov/storage-services/service/pnp/ppmsc/08500/08589v.jpg#h=750&w=1024',\n",
       " 'https://tile.loc.gov/storage-services/service/pnp/ppmsca/16100/16143v.jpg#h=838&w=1024',\n",
       " 'https://tile.loc.gov/storage-services/service/pnp/ppmsca/16200/16211v.jpg#h=837&w=1024',\n",
       " 'https://tile.loc.gov/storage-services/service/pnp/ppmsca/16200/16216v.jpg#h=836&w=1024',\n",
       " 'https://tile.loc.gov/storage-services/service/pnp/ppmsca/16200/16226v.jpg#h=831&w=1024',\n",
       " 'https://tile.loc.gov/storage-services/service/pnp/ppmsca/16600/16693v.jpg#h=829&w=1024',\n",
       " 'https://tile.loc.gov/storage-services/service/pnp/ppmsca/16700/16752v.jpg#h=834&w=1024',\n",
       " 'https://tile.loc.gov/storage-services/service/pnp/ppmsca/38700/38775v.jpg#h=1024&w=844',\n",
       " 'https://tile.loc.gov/storage-services/service/pnp/ppmsca/67900/67920v.jpg#h=781&w=1024',\n",
       " 'https://tile.loc.gov/storage-services/service/pnp/ppmsca/83800/83823v.jpg#h=745&w=1024',\n",
       " 'https://tile.loc.gov/storage-services/service/pnp/ppmsca/83800/83865v.jpg#h=1016&w=1024',\n",
       " 'https://tile.loc.gov/storage-services/service/pnp/stereo/1s00000/1s00000/1s00300/1s00324v.jpg#h=593&w=1024',\n",
       " 'https://tile.loc.gov/storage-services/service/pnp/stereo/1s00000/1s04000/1s04600/1s04657v.jpg#h=524&w=1024',\n",
       " 'https://tile.loc.gov/storage-services/service/pnp/stereo/1s00000/1s06000/1s06100/1s06147v.jpg#h=542&w=1024',\n",
       " 'https://tile.loc.gov/storage-services/service/pnp/stereo/1s00000/1s07000/1s07800/1s07844v.jpg#h=532&w=1024',\n",
       " 'https://tile.loc.gov/storage-services/service/pnp/stereo/1s00000/1s08000/1s08700/1s08717v.jpg#h=527&w=1024',\n",
       " 'https://tile.loc.gov/storage-services/service/pnp/stereo/1s20000/1s26000/1s26600/1s26666v.jpg#h=538&w=1024',\n",
       " 'https://tile.loc.gov/storage-services/service/pnp/stereo/1s30000/1s30000/1s30900/1s30968v.jpg#h=529&w=1024',\n",
       " 'https://tile.loc.gov/storage-services/service/pnp/stereo/1s30000/1s31000/1s31900/1s31930v.jpg#h=529&w=1024',\n",
       " 'https://tile.loc.gov/storage-services/service/pnp/stereo/1s30000/1s38000/1s38400/1s38444v.jpg#h=532&w=1024',\n",
       " 'https://tile.loc.gov/storage-services/service/pnp/thc/5a50000/5a50500/5a50527r.jpg#h=420&w=530',\n",
       " 'https://tile.loc.gov/storage-services/service/pnp/wtc/4a00000/4a03000/4a03200/4a03254r.jpg#h=420&w=466']"
      ]
     },
     "execution_count": 22,
     "metadata": {},
     "output_type": "execute_result"
    }
   ],
   "source": [
    "item_image_urls"
   ]
  },
  {
   "cell_type": "markdown",
   "metadata": {},
   "source": [
    "Now, create an updated set list with the image URLs:"
   ]
  },
  {
   "cell_type": "code",
   "execution_count": 23,
   "metadata": {},
   "outputs": [
    {
     "name": "stdout",
     "output_type": "stream",
     "text": [
      "{'item_URI': 'http://www.loc.gov/item/cmns001121/', 'lccn': None, 'title': \"Bob Jarrell's vegetable garden\", 'image_URL_large': 'https://tile.loc.gov/image-services/iiif/service:afc:afc1999008:afc1999008_crf_mhc05407/full/pct:100/0/default.jpg#h=2776&w=4096'}\n"
     ]
    }
   ],
   "source": [
    "collection_set_list_with_images = list()\n",
    "\n",
    "for item in metadata_file_list:\n",
    "    with open(item, 'r', encoding='utf-8') as item_info:\n",
    "        item_metadata = json.load(item_info)\n",
    "\n",
    "        # add the metadata into a dictionary for each item\n",
    "        item_metadata_dict = dict()\n",
    "        item_metadata_dict['item_URI'] = item_metadata['id']\n",
    "        try:\n",
    "            item_metadata_dict['lccn'] = item_metadata['library_of_congress_control_number']\n",
    "        except:\n",
    "            item_metadata_dict['lccn'] = None\n",
    "        item_metadata_dict['title'] = item_metadata['title']\n",
    "        item_metadata_dict['image_URL_large'] = item_metadata['image_url'][-1]\n",
    "        \n",
    "        # add the metadata to the main list\n",
    "        collection_set_list_with_images.append(item_metadata_dict)\n",
    "\n",
    "print(collection_set_list_with_images[0])"
   ]
  },
  {
   "cell_type": "markdown",
   "metadata": {},
   "source": [
    "Finally, make the image requests:"
   ]
  },
  {
   "cell_type": "code",
   "execution_count": 24,
   "metadata": {},
   "outputs": [
    {
     "name": "stdout",
     "output_type": "stream",
     "text": [
      "... requesting https://tile.loc.gov/image-services/iiif/service:afc:afc1999008:afc1999008_crf_mhc05407/full/pct:100/0/default.jpg#h=2776&w=4096\n",
      "Saved ..\\Collection Project\\item-files-gardens\\img_cmns001121.jpg\n",
      "... requesting https://tile.loc.gov/storage-services/service/pnp/cph/3a20000/3a25000/3a25200/3a25266r.jpg#h=497&w=640\n",
      "Saved ..\\Collection Project\\item-files-gardens\\img_2001703638.jpg\n",
      "... requesting https://tile.loc.gov/storage-services/service/pnp/cph/3c30000/3c30000/3c30900/3c30923v.jpg#h=817&w=1024\n",
      "Saved ..\\Collection Project\\item-files-gardens\\img_2017865756.jpg\n",
      "... requesting https://tile.loc.gov/storage-services/service/pnp/cph/3f00000/3f05000/3f05700/3f05737v.jpg#h=702&w=1024\n",
      "Saved ..\\Collection Project\\item-files-gardens\\img_99400959.jpg\n",
      "... requesting https://tile.loc.gov/storage-services/service/pnp/cph/3g00000/3g05000/3g05100/3g05158v.jpg#h=1024&w=806\n",
      "Saved ..\\Collection Project\\item-files-gardens\\img_97502889.jpg\n",
      "... requesting https://tile.loc.gov/storage-services/service/pnp/ds/03600/03659v.jpg#h=831&w=1024\n",
      "Saved ..\\Collection Project\\item-files-gardens\\img_2013645840.jpg\n",
      "... requesting https://tile.loc.gov/storage-services/service/pnp/ds/13700/13761v.jpg#h=889&w=1024\n",
      "Saved ..\\Collection Project\\item-files-gardens\\img_2020630497.jpg\n",
      "... requesting https://tile.loc.gov/storage-services/service/pnp/fsa/8a19000/8a19100/8a19113v.jpg#h=717&w=1024\n",
      "Saved ..\\Collection Project\\item-files-gardens\\img_2017732863.jpg\n",
      "... requesting https://tile.loc.gov/storage-services/service/pnp/fsa/8b14000/8b14000/8b14071v.jpg#h=1024&w=776\n",
      "Saved ..\\Collection Project\\item-files-gardens\\img_2017762632.jpg\n",
      "... requesting https://tile.loc.gov/storage-services/service/pnp/fsa/8b14000/8b14500/8b14514v.jpg#h=792&w=1024\n",
      "Saved ..\\Collection Project\\item-files-gardens\\img_2017764422.jpg\n",
      "... requesting https://tile.loc.gov/storage-services/service/pnp/fsa/8c19000/8c19700/8c19781v.jpg#h=759&w=1024\n",
      "Saved ..\\Collection Project\\item-files-gardens\\img_2017812834.jpg\n",
      "... requesting https://tile.loc.gov/storage-services/service/pnp/fsa/8d21000/8d21000/8d21091v.jpg#h=1012&w=1024\n",
      "Saved ..\\Collection Project\\item-files-gardens\\img_2017832184.jpg\n",
      "... requesting https://tile.loc.gov/storage-services/service/pnp/fsa/8d31000/8d31600/8d31670v.jpg#h=1024&w=988\n",
      "Saved ..\\Collection Project\\item-files-gardens\\img_2017859523.jpg\n",
      "... requesting https://tile.loc.gov/storage-services/service/pnp/ggbain/01300/01389v.jpg#h=793&w=1024\n",
      "Saved ..\\Collection Project\\item-files-gardens\\img_2014681384.jpg\n",
      "... requesting https://tile.loc.gov/storage-services/service/pnp/habshaer/ca/ca1300/ca1376/photos/015410pv.jpg#h=952&w=1024\n",
      "Saved ..\\Collection Project\\item-files-gardens\\img_ca1376.jpg\n",
      "... requesting https://tile.loc.gov/storage-services/service/pnp/habshaer/ma/ma1200/ma1202/sheet/00000v.jpg#h=829&w=1024\n",
      "Saved ..\\Collection Project\\item-files-gardens\\img_ma1202.jpg\n",
      "... requesting https://tile.loc.gov/image-services/iiif/service:pnp:highsm:13100:13145/full/pct:25/0/default.jpg#h=2322&w=1801\n",
      "Saved ..\\Collection Project\\item-files-gardens\\img_2011631339.jpg\n",
      "... requesting https://tile.loc.gov/image-services/iiif/service:pnp:highsm:16100:16140/full/pct:25/0/default.jpg#h=1640&w=1278\n",
      "Saved ..\\Collection Project\\item-files-gardens\\img_2011634333.jpg\n",
      "... requesting https://tile.loc.gov/image-services/iiif/service:pnp:highsm:17200:17208/full/pct:25/0/default.jpg#h=1188&w=1542\n",
      "Saved ..\\Collection Project\\item-files-gardens\\img_2011635401.jpg\n",
      "... requesting https://tile.loc.gov/image-services/iiif/service:pnp:highsm:18000:18085/full/pct:25/0/default.jpg#h=1618&w=1262\n",
      "Saved ..\\Collection Project\\item-files-gardens\\img_2011636279.jpg\n",
      "... requesting https://tile.loc.gov/storage-services/service/pnp/highsm/51000/51078v.jpg#h=1024&w=736\n",
      "Saved ..\\Collection Project\\item-files-gardens\\img_2018699280.jpg\n",
      "... requesting https://tile.loc.gov/storage-services/service/pnp/highsm/58200/58260v.jpg#h=768&w=1024\n",
      "Saved ..\\Collection Project\\item-files-gardens\\img_2019690684.jpg\n",
      "... requesting https://tile.loc.gov/storage-services/service/pnp/mrg/00200/00279v.jpg#h=688&w=1024\n",
      "Saved ..\\Collection Project\\item-files-gardens\\img_2017702393.jpg\n",
      "... requesting https://tile.loc.gov/storage-services/service/pnp/npcc/20200/20263v.jpg#h=753&w=1024\n",
      "Saved ..\\Collection Project\\item-files-gardens\\img_2016821817.jpg\n",
      "... requesting https://tile.loc.gov/storage-services/service/pnp/pga/14300/14314v.jpg#h=756&w=1024\n",
      "Saved ..\\Collection Project\\item-files-gardens\\img_2016652451.jpg\n",
      "... requesting https://tile.loc.gov/storage-services/service/pnp/ppmsc/05200/05210v.jpg#h=762&w=1024\n",
      "Saved ..\\Collection Project\\item-files-gardens\\img_2001698553.jpg\n",
      "... requesting https://tile.loc.gov/storage-services/service/pnp/ppmsc/08500/08589v.jpg#h=750&w=1024\n",
      "Saved ..\\Collection Project\\item-files-gardens\\img_2002696950.jpg\n",
      "... requesting https://tile.loc.gov/storage-services/service/pnp/ppmsca/16100/16143v.jpg#h=838&w=1024\n",
      "Saved ..\\Collection Project\\item-files-gardens\\img_2007685069.jpg\n",
      "... requesting https://tile.loc.gov/storage-services/service/pnp/ppmsca/16200/16211v.jpg#h=837&w=1024\n",
      "Saved ..\\Collection Project\\item-files-gardens\\img_2007685902.jpg\n",
      "... requesting https://tile.loc.gov/storage-services/service/pnp/ppmsca/16200/16216v.jpg#h=836&w=1024\n",
      "Saved ..\\Collection Project\\item-files-gardens\\img_2007685907.jpg\n",
      "... requesting https://tile.loc.gov/storage-services/service/pnp/ppmsca/16200/16226v.jpg#h=831&w=1024\n",
      "Saved ..\\Collection Project\\item-files-gardens\\img_2007685917.jpg\n",
      "... requesting https://tile.loc.gov/storage-services/service/pnp/ppmsca/16600/16693v.jpg#h=829&w=1024\n",
      "Saved ..\\Collection Project\\item-files-gardens\\img_2008675993.jpg\n",
      "... requesting https://tile.loc.gov/storage-services/service/pnp/ppmsca/16700/16752v.jpg#h=834&w=1024\n",
      "Saved ..\\Collection Project\\item-files-gardens\\img_2008676052.jpg\n",
      "... requesting https://tile.loc.gov/storage-services/service/pnp/ppmsca/38700/38775v.jpg#h=1024&w=844\n",
      "Saved ..\\Collection Project\\item-files-gardens\\img_2015647541.jpg\n",
      "... requesting https://tile.loc.gov/storage-services/service/pnp/ppmsca/67900/67920v.jpg#h=781&w=1024\n",
      "Saved ..\\Collection Project\\item-files-gardens\\img_2016653458.jpg\n",
      "... requesting https://tile.loc.gov/storage-services/service/pnp/ppmsca/83800/83823v.jpg#h=745&w=1024\n",
      "Saved ..\\Collection Project\\item-files-gardens\\img_2022654691.jpg\n",
      "... requesting https://tile.loc.gov/storage-services/service/pnp/ppmsca/83800/83865v.jpg#h=1016&w=1024\n",
      "Saved ..\\Collection Project\\item-files-gardens\\img_2022654406.jpg\n",
      "... requesting https://tile.loc.gov/storage-services/service/pnp/stereo/1s00000/1s00000/1s00300/1s00324v.jpg#h=593&w=1024\n",
      "Saved ..\\Collection Project\\item-files-gardens\\img_2005694526.jpg\n",
      "... requesting https://tile.loc.gov/storage-services/service/pnp/stereo/1s00000/1s04000/1s04600/1s04657v.jpg#h=524&w=1024\n",
      "Saved ..\\Collection Project\\item-files-gardens\\img_2016646706.jpg\n",
      "... requesting https://tile.loc.gov/storage-services/service/pnp/stereo/1s00000/1s06000/1s06100/1s06147v.jpg#h=542&w=1024\n",
      "Saved ..\\Collection Project\\item-files-gardens\\img_2017648032.jpg\n",
      "... requesting https://tile.loc.gov/storage-services/service/pnp/stereo/1s00000/1s07000/1s07800/1s07844v.jpg#h=532&w=1024\n",
      "Saved ..\\Collection Project\\item-files-gardens\\img_2017659035.jpg\n",
      "... requesting https://tile.loc.gov/storage-services/service/pnp/stereo/1s00000/1s08000/1s08700/1s08717v.jpg#h=527&w=1024\n",
      "Saved ..\\Collection Project\\item-files-gardens\\img_2017651458.jpg\n",
      "... requesting https://tile.loc.gov/storage-services/service/pnp/stereo/1s20000/1s26000/1s26600/1s26666v.jpg#h=538&w=1024\n",
      "Saved ..\\Collection Project\\item-files-gardens\\img_2020681423.jpg\n",
      "... requesting https://tile.loc.gov/storage-services/service/pnp/stereo/1s30000/1s30000/1s30900/1s30968v.jpg#h=529&w=1024\n",
      "Saved ..\\Collection Project\\item-files-gardens\\img_2020634322.jpg\n",
      "... requesting https://tile.loc.gov/storage-services/service/pnp/stereo/1s30000/1s31000/1s31900/1s31930v.jpg#h=529&w=1024\n",
      "Saved ..\\Collection Project\\item-files-gardens\\img_2020637604.jpg\n",
      "... requesting https://tile.loc.gov/storage-services/service/pnp/stereo/1s30000/1s38000/1s38400/1s38444v.jpg#h=532&w=1024\n",
      "Saved ..\\Collection Project\\item-files-gardens\\img_2022645109.jpg\n",
      "... requesting https://tile.loc.gov/storage-services/service/pnp/thc/5a50000/5a50500/5a50527r.jpg#h=420&w=530\n",
      "Saved ..\\Collection Project\\item-files-gardens\\img_2019684989.jpg\n",
      "... requesting https://tile.loc.gov/storage-services/service/pnp/wtc/4a00000/4a03000/4a03200/4a03254r.jpg#h=420&w=466\n",
      "Saved ..\\Collection Project\\item-files-gardens\\img_2004707960.jpg\n",
      "--- mini LOG ---\n",
      "files requested: 48\n",
      "errors: 0\n",
      "files written: 48\n"
     ]
    }
   ],
   "source": [
    "item_count = 0\n",
    "error_count = 0\n",
    "file_count = 0\n",
    "\n",
    "img_file_prefix = 'img_'\n",
    "\n",
    "for item in collection_set_list_with_images:\n",
    "        image_URL = item['image_URL_large']\n",
    "        short_ID = item['item_URI'].split('/')[-2]\n",
    "        print('... requesting',image_URL)\n",
    "        item_count += 1\n",
    "\n",
    "        # if found, save image\n",
    "        r = requests.get(image_URL)\n",
    "        if r.status_code == 200:\n",
    "            img_out = os.path.join('..',project_dir,files_dir,str(img_file_prefix + short_ID + '.jpg'))\n",
    "            with open(img_out, 'wb') as file:\n",
    "                file.write(r.content)\n",
    "                print('Saved',img_out)\n",
    "                file_count += 1\n",
    "\n",
    "\n",
    "print('--- mini LOG ---')\n",
    "print('files requested:',item_count)\n",
    "print('errors:',error_count)\n",
    "print('files written:',file_count)"
   ]
  }
 ],
 "metadata": {
  "kernelspec": {
   "display_name": "Python 3",
   "language": "python",
   "name": "python3"
  },
  "language_info": {
   "codemirror_mode": {
    "name": "ipython",
    "version": 3
   },
   "file_extension": ".py",
   "mimetype": "text/x-python",
   "name": "python",
   "nbconvert_exporter": "python",
   "pygments_lexer": "ipython3",
   "version": "3.11.5"
  }
 },
 "nbformat": 4,
 "nbformat_minor": 2
}
