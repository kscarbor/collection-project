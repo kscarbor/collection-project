{
 "cells": [
  {
   "cell_type": "markdown",
   "id": "8bec8f5c-90cb-4936-a161-b1f1c53ed2df",
   "metadata": {},
   "source": [
    "# Extract (Harvest) Metadata and Content\n",
    "\n",
    "This notebook demonstrates the first step in the generalized workflow\n",
    "to develop your reference digital collections. \n",
    "We will walk through each step in class, but you will need to adapt these demonstrations\n",
    "so that they work for your own collections, so this work will also be self-guided.\n",
    "\n",
    "## ETL Workflow\n",
    "\n",
    "The overarching process here follows a generalized \"Extract - Transform - Load\" workflow.This is an abstract model for pulling data from one system, transporting, cleaning, and outputting to another system.\n",
    "While often in reference to database work and data engineering, the goals here are the same for our digital collections:\n",
    "**extract** the metadata from the Library of Congress, change (**transform**) it into structures that makes sense to our collection systems (CollectionBuilder and Omeka),\n",
    "then ingest (**load**) that data and associated content into the systems.\n",
    "\n",
    "## Learning objectives\n",
    "\n",
    "After completing the course assignment, you should: \n",
    "\n",
    "* Have a conceptual and a practical understanding of how collection metadata is made available by a REST API.\n",
    "* Be able to explain the concept of metadata extraction and transformation.\n",
    "* Create a structure for documenting metadata practices in a collection or repository (a Metadata Application Profile) and implement that structure for transformations. \n",
    "* Use programming to work with data supplied by an API in JSON format, to manage and transform useful parts of that data into CSV format.\n",
    "* Create ingest-ready collection metadata that conforms to Dublin Core and other digital collection metadata standards, which can be used to load content into another site (in this case, an Omeka S site). \n",
    "\n",
    "## Introduction\n",
    "\n",
    "The main steps outlined in this notebook are as follows:\n",
    "\n",
    "* **Extract the metadata.** This may be done in whatever way works for you. As illustrated here, there are two main steps that involve requesting JSON data from the Library of Congress: \n",
    "  1. Get collections list - using the requests library, make a request to the library of congress API to get the list of items in the \"Free to Use\" libraries collection. Write this to a local file (here called `collection_items_list.csv` and in the `data` directory). \n"
   ]
  },
  {
   "cell_type": "markdown",
   "id": "00a281bf-4fb1-4bb2-b01f-d4f1c523e905",
   "metadata": {},
   "source": [
    "# Get collection list"
   ]
  },
  {
   "cell_type": "code",
   "execution_count": 1,
   "id": "fd81df05-072c-47cd-b4dc-b3abdbaa8400",
   "metadata": {},
   "outputs": [],
   "source": [
    "import csv\n",
    "import json\n",
    "import requests"
   ]
  },
  {
   "cell_type": "markdown",
   "id": "a7b58b95",
   "metadata": {},
   "source": [
    "### Build the URL"
   ]
  },
  {
   "cell_type": "code",
   "execution_count": 2,
   "id": "fc347104-09d2-4775-8a40-bcccf62488da",
   "metadata": {},
   "outputs": [],
   "source": [
    "endpoint = 'https://www.loc.gov/free-to-use'\n",
    "parameters = {\n",
    "    'fo' : 'json'\n",
    "}"
   ]
  },
  {
   "cell_type": "code",
   "execution_count": 3,
   "id": "782bf143-ead3-4b6c-a5e4-fe716fa6ca29",
   "metadata": {},
   "outputs": [],
   "source": [
    "collection = 'gardens'"
   ]
  },
  {
   "cell_type": "code",
   "execution_count": 4,
   "id": "3f80d186-dae5-4e58-a477-522d2daa3879",
   "metadata": {},
   "outputs": [],
   "source": [
    "collection_list_response = requests.get(endpoint + '/' + collection, params=parameters)"
   ]
  },
  {
   "cell_type": "code",
   "execution_count": 5,
   "id": "818bdf3e-21eb-4cbb-b0c8-cc19b96642b7",
   "metadata": {},
   "outputs": [
    {
     "data": {
      "text/plain": [
       "'https://www.loc.gov/free-to-use/gardens?fo=json'"
      ]
     },
     "execution_count": 5,
     "metadata": {},
     "output_type": "execute_result"
    }
   ],
   "source": [
    "collection_list_response.url"
   ]
  },
  {
   "cell_type": "markdown",
   "id": "f780f77b",
   "metadata": {},
   "source": [
    "### Examine the response\n",
    "\n",
    "Look at the JSON response and find the data you want: the collection set list."
   ]
  },
  {
   "cell_type": "code",
   "execution_count": 6,
   "id": "085b1467-c97a-4dac-9a8d-e79482d2e892",
   "metadata": {},
   "outputs": [],
   "source": [
    "collection_json = collection_list_response.json()"
   ]
  },
  {
   "cell_type": "markdown",
   "id": "f094c36f-a94a-4645-b3a6-8310898aeaff",
   "metadata": {},
   "source": [
    "Take a moment to look around in the JSON response. Where would you look for the data about the items in the collection of free to use library images? \n",
    "\n",
    "_Hint: At this point we're not really looking for the information about the images, but the pointers to them (such as headings, links, etc)._ "
   ]
  },
  {
   "cell_type": "code",
   "execution_count": 7,
   "id": "02b66184",
   "metadata": {},
   "outputs": [
    {
     "data": {
      "text/plain": [
       "dict_keys(['breadcrumbs', 'content', 'content_is_post', 'description', 'disable_max_line_length', 'expert_resources', 'manifest', 'next', 'next_sibling', 'options', 'pages', 'portal', 'previous', 'previous_sibling', 'site_type', 'timestamp', 'title', 'type'])"
      ]
     },
     "execution_count": 7,
     "metadata": {},
     "output_type": "execute_result"
    }
   ],
   "source": [
    "# .keys() is a helpful function to see what the data elements are\n",
    "collection_json.keys()"
   ]
  },
  {
   "cell_type": "markdown",
   "id": "b74d398e",
   "metadata": {},
   "source": [
    "Looking further into the dictionary, it seems that you can get a list of the items in the set by looking into `content`, then `set`, then the `items` element:"
   ]
  },
  {
   "cell_type": "code",
   "execution_count": 8,
   "id": "c92bbacc-7cf8-47e7-9e2e-88542eaf9d8b",
   "metadata": {
    "collapsed": true,
    "jupyter": {
     "outputs_hidden": true
    },
    "tags": []
   },
   "outputs": [
    {
     "name": "stdout",
     "output_type": "stream",
     "text": [
      "{'alt': 'Blooming cactus plant and several smaller flowering plants nearby.', 'image': '/static/portals/free-to-use/public-domain/gardens/gardens-1.jpg', 'link': '/resource/highsm.16140/', 'title': 'Flowers, including a blooming cactus, at the Desert Botanical Garden, Phoenix, Arizona. Photo by Carol M. Highsmith, around 2000.'}\n",
      "{'alt': \"Illustration of the fountain's center jet and tiered, color-lit basins. Chicago skyline in background.\\n\", 'image': '/static/portals/free-to-use/public-domain/gardens/gardens-2.jpg', 'link': '/resource/cph.3g05158/', 'title': \"Buckingham Fountain on Chicago's lake front. Poster by John Buczak, 1939.\\n\"}\n",
      "{'alt': 'Overview of a walled flower garden with coastal landscape in background.', 'image': '/static/portals/free-to-use/public-domain/gardens/gardens-3.jpg', 'link': '/resource/ppmsca.16216/', 'title': 'Gray Gardens, East Hampton, New York. Lantern slide by Frances B. Johnston and Mattie E. Hewitt, around 1914.'}\n",
      "{'alt': 'Roses in several colors grow next to and around a lamp post.', 'image': '/static/portals/free-to-use/public-domain/gardens/gardens-4.jpg', 'link': '/resource/highsm.51078/', 'title': 'Creative planting at the International Rose Test Garden in Portland, Oregon. Photo by Carol M. Highsmith, 2018.'}\n",
      "{'alt': 'A white boy wearing shorts and a tie uses a watering can to moisten several rows of vegetables.', 'image': '/static/portals/free-to-use/public-domain/gardens/gardens-5.jpg', 'link': '/resource/cph.3c30923/', 'title': \"Children's school victory gardens, New York City. Photo by Edward Meyer, 1944.\\n\"}\n",
      "{'alt': 'Four African American children pose while standing in front of flowers by a fence.', 'image': '/static/portals/free-to-use/public-domain/gardens/gardens-6.jpg', 'link': '/resource/ppmsca.38775/', 'title': \"Henry Truvillion's children (4 of the 5), in his flower garden, Newton, Texas. Photo by Ruby Lomax, 1940.\\n\"}\n",
      "{'alt': 'Smiling scarecrow stands among vegetables in a small fenced garden.', 'image': '/static/portals/free-to-use/public-domain/gardens/gardens-7.jpg', 'link': '/resource/ppmsca.16143/', 'title': 'Worker vegetable garden with scarecrow at the National Cash Register Company, Dayton, Ohio.  Lantern slide, around 1905.'}\n",
      "{'alt': 'Blooming flowers flank a gravel path with stone steps leading to a wooden gate and arbor.', 'image': '/static/portals/free-to-use/public-domain/gardens/gardens-8.jpg', 'link': '/resource/ppmsca.16752/', 'title': 'Flower garden gate at Beechgate, Englewood, New Jersey.  Lantern slide by Frances B. Johnston, 1918.'}\n",
      "{'alt': 'Woman wearing a flower-patterned dress, is stretched out on a bench with her shoes off.', 'image': '/static/portals/free-to-use/public-domain/gardens/gardens-9.jpg', 'link': '/resource/fsa.8b14514/', 'title': 'Government employee taking a nap on a bench in the Botanical Garden, Washington, DC. Photo by John Ferrell, 1942.'}\n",
      "{'alt': 'Low dirt walls surround sunken rows of plants with a  desert landscape in background.', 'image': '/static/portals/free-to-use/public-domain/gardens/gardens-10.jpg', 'link': '/resource/stereo.1s00324/', 'title': \"Gardens surrounding the Zuni Pueblo, in which are raised a variety of vegetables.  Stereograph by Timothy O'Sullivan, 1873.\"}\n",
      "{'alt': 'Corner of stone house with blooming yellow and purple plants in foreground.', 'image': '/static/portals/free-to-use/public-domain/gardens/gardens-11.jpg', 'link': '/resource/highsm.18085/', 'title': \"Bartram's Garden, America's oldest botanical garden, Philadelphia, Pennsylvania. Photo by Carol M. Highsmith, around 2000.\\n\"}\n",
      "{'alt': 'Crescent-shaped pool with garden park at left and skyscrapers in background.', 'image': '/static/portals/free-to-use/public-domain/gardens/gardens-12.jpg', 'link': '/resource/highsm.17208/', 'title': 'Reflecting pool, Yerba Buena Gardens, atop Moscone Convention Center, San Francisco, California. Photo by Carol M. Highsmith, around 2000.'}\n",
      "{'alt': 'Stone pathway and low-growing flowers lead into a wooded area.', 'image': '/static/portals/free-to-use/public-domain/gardens/gardens-13.jpg', 'link': '/resource/ppmsca.16693/', 'title': 'Pathway at Reef Point, Beatrix Farrand house, Bar Harbor, Maine. Lantern slide by Frances B. Johnston, 1920.'}\n",
      "{'alt': 'A row of four men wearing aprons stand by potted plants; two are smiling.', 'image': '/static/portals/free-to-use/public-domain/gardens/gardens-14.jpg', 'link': '/resource/ppmsca.83823/', 'title': 'Japanese American men work in a greenhouse operated by the Issei-owned Ozone Park Nursery, New York City. Photo by Stone S. Ishimaru, 1945.'}\n",
      "{'alt': 'Site plan identifies trees, plants, and two houses.', 'image': '/static/portals/free-to-use/public-domain/gardens/gardens-15.jpg', 'link': '/resource/hhh.ma1202.sheet/?sp=12', 'title': 'Adams Garden, Quincy, Massachusetts. Delineated by Margaret M. Webster, 1936.'}\n",
      "{'alt': \"Bird's-eye view illustration of the courtyard, gardens, and large fountain surrounded on three sides by the palace.\\n\", 'image': '/static/portals/free-to-use/public-domain/gardens/gardens-16.jpg', 'link': '/resource/pga.14314/', 'title': 'Paris. Jardin du Palais Royal. Lithograph by Lemercier from drawing by Philippe Benoist, around 1850.'}\n",
      "{'alt': 'Frozen fountain in front of the monument with a sculpture of Washington on a horse.', 'image': '/static/portals/free-to-use/public-domain/gardens/gardens-17.jpg', 'link': '/resource/stereo.1s04657/', 'title': 'George Washington Monument and frozen fountain, Richmond, Virginia. Stereograph by David H. Anderson, 1860-1870.'}\n",
      "{'alt': 'Many children and adults (seen from behind) are looking at the two-tier fountain with multiple water jets.', 'image': '/static/portals/free-to-use/public-domain/gardens/gardens-18.jpg', 'link': '/resource/stereo.1s07844/', 'title': 'Forsyth Park fountain, Savannah, Georgia. Stereograph by J.N. Wilson, 1860-1880.'}\n",
      "{'alt': 'Potted plants flank a walkway inside a greenhouse.', 'image': '/static/portals/free-to-use/public-domain/gardens/gardens-19.jpg', 'link': '/resource/stereo.1s06147/', 'title': 'Botanical Gardens, Washington, DC, approximately 1880.'}\n",
      "{'alt': 'People look across a pond to the three-story museum building.', 'image': '/static/portals/free-to-use/public-domain/gardens/gardens-20.jpg', 'link': '/resource/ppmsc.08589/', 'title': 'Kew Gardens, the museum, England, 1890-1900.'}\n",
      "{'alt': 'A rectangular pool of water leads to the elaborate fountain with sculpture figures.', 'image': '/static/portals/free-to-use/public-domain/gardens/gardens-21.jpg', 'link': '/resource/ppmsc.05210/', 'title': 'Luxembourg Gardens, the Medici fountain, Paris, France, 1890-1900.'}\n",
      "{'alt': 'Plants grow in water with the wooden porch of a building at left.', 'image': '/static/portals/free-to-use/public-domain/gardens/gardens-22.jpg', 'link': '/resource/wtc.4a03254/', 'title': 'Water garden, China. Lantern slide by William Henry Jackson, 1895.'}\n",
      "{'alt': 'Design drawing for a octagonal basin with decorative figures in blue, yellow, red, and green.', 'image': '/static/portals/free-to-use/public-domain/gardens/gardens-23.jpg', 'link': '/resource/ppmsca.83865/', 'title': 'Basin for fountain in the Winter Garden at Biltmore, Asheville, North Carolina. Drawing by Richard M. Hunt, around1895.'}\n",
      "{'alt': 'More than 12 children and a teacher are in a narrow, fenced garden.', 'image': '/static/portals/free-to-use/public-domain/gardens/gardens-24.jpg', 'link': '/resource/cph.3a25266/', 'title': 'Kindergarten in a vegetable garden, Washington, DC. Photo by Frances B. Johnston, 1899.'}\n",
      "{'alt': 'View across a valley with a few trees and buildings.', 'image': '/static/portals/free-to-use/public-domain/gardens/gardens-25.jpg', 'link': '/resource/stereo.1s08717/', 'title': 'Garden of Gethsemane, Jerusalem. Stereograph, 1900.'}\n",
      "{'alt': 'The heads of two children appear just above the flowers that fill a field.', 'image': '/static/portals/free-to-use/public-domain/gardens/gardens-26.jpg', 'link': '/resource/stereo.1s30968/', 'title': 'A spring day in the Kabota iris gardens--children playing among the tall flower stalks, Omori, Japan. Stereograph by Underwood & Underwood, 1905.'}\n",
      "{'alt': 'Men row in a boat in front of a multi-story, pyramid-shaped pagoda and palm trees.', 'image': '/static/portals/free-to-use/public-domain/gardens/gardens-27.jpg', 'link': '/resource/stereo.1s26666/', 'title': 'Buddhist pagoda in the Burmese style, Eden Gardens, Calcutta (now Kolkata), India. Stereograph by American Stereoscopic Co., 1907.'}\n",
      "{'alt': 'A large statue of a standing man with flowers in the foreground.', 'image': '/static/portals/free-to-use/public-domain/gardens/gardens-28.jpg', 'link': '/resource/stereo.1s38444/', 'title': 'Statue of Linnaeus, Humelgard Park, Stockholm, Sweden. Stereograph by Standard Scenic Co., 1907.'}\n",
      "{'alt': 'A man sits on the porch of a one-story log cabin with a yard filled with flowers and vegetables.', 'image': '/static/portals/free-to-use/public-domain/gardens/gardens-29.jpg', 'link': '/resource/npcc.20263/', 'title': 'A cottage & garden, Alaska. Photo by National Photo Co., 1909-1920.'}\n",
      "{'alt': 'Girls and boys pose by plants in wooden boxes on a roof.', 'image': '/static/portals/free-to-use/public-domain/gardens/gardens-30.jpg', 'link': '/resource/ppmsca.67920/', 'title': 'Roof garden, Elizabeth McCormick open air school, Hull House Chicago, 1912.'}\n",
      "{'alt': 'A rectangular blue pool flanked by flowers leads to a pergola in the background.', 'image': '/static/portals/free-to-use/public-domain/gardens/gardens-31.jpg', 'link': '/search/?fa=partof:every+photo+is+a+story', 'title': 'The story of the Blue Garden in Newport, Rhode Island, is a great way to learn about reading photographs.'}\n",
      "{'alt': 'Wide grass pathway flanked by blooming flowers.', 'image': '/static/portals/free-to-use/public-domain/gardens/gardens-32.jpg', 'link': '/resource/ppmsca.16801/', 'title': 'Flower garden, Mariemont, Middletown, Rhode Island. Lantern slide, by Frances B. Johnston and Mattie E. Hewitt, 1914.'}\n",
      "{'alt': 'Several doves perch on top of a triangular birdhouse surrounded by a white flowering bush.', 'image': '/static/portals/free-to-use/public-domain/gardens/gardens-33.jpg', 'link': '/resource/ppmsca.16226/', 'title': 'Dovecote, Gray Gardens, East Hampton, New York. Lantern slide by Frances B. Johnston and Mattie E. Hewitt, around 1914.'}\n",
      "{'alt': 'Several people sit and stand in front of thick bamboo stems that tower above them.', 'image': '/static/portals/free-to-use/public-domain/gardens/gardens-34.jpg', 'link': '/resource/stereo.1s31930/', 'title': 'Immense bamboos of the world-famed botanical gardens, Buitenzorg (now Bogor), Java. Stereograph by Underwood & Underwood, 1915.'}\n",
      "{'alt': 'Rooftop garden filled with flower plants and vines.', 'image': '/static/portals/free-to-use/public-domain/gardens/gardens-35.jpg', 'link': '/resource/ggbain.01389/', 'title': 'Penthouse on a skyscraper, New York City. Photo by Bain News Service, 1919.'}\n",
      "{'alt': 'Rows of red tulips with a tree and other flowers in the background.', 'image': '/static/portals/free-to-use/public-domain/gardens/gardens-36.jpg', 'link': '/resource/thc.5a50527/', 'title': 'Tulip garden in the Washington, DC, area. Photo by Theodor Horydczak, around 1940s.'}\n",
      "{'alt': 'A circular pond in the foreground and a rose-covered wall and seating in the background.', 'image': '/static/portals/free-to-use/public-domain/gardens/gardens-37.jpg', 'link': '/resource/ppmsca.16211/', 'title': 'Fountain in pool at The Dunes, East Hampton, New York. Lantern slide by Frances B. Johnston and Mattie E. Hewitt, around 1915.'}\n",
      "{'alt': 'Technical diagram for a large circular fountain.', 'image': '/static/portals/free-to-use/public-domain/gardens/gardens-38.jpg', 'link': '/resource/ds.13761/', 'title': 'Foundation plan for James Scott Memorial Fountain, Belle Isle, Detroit, Michigan. Design by architect Cass Gilbert, 1920.'}\n",
      "{'alt': 'Many children are playing in the ground-level water jets and on two animal sculptures.', 'image': '/static/portals/free-to-use/public-domain/gardens/gardens-39.jpg', 'link': '/resource/ds.03659/', 'title': 'Sculpture and children in fountains - Jane Addams Houses, Chicago. Photo by Peter Sekaer, 1938-1940.'}\n",
      "{'alt': 'Blooming plants overflow a window box on the first floor of a brick residential building.', 'image': '/static/portals/free-to-use/public-domain/gardens/gardens-40.jpg', 'link': '/resource/fsa.8a19113/', 'title': 'Flowers in a window, New York City. Photo by Walker Evans, 1938.'}\n",
      "{'alt': 'Potted plants fill the sill of a curtained window.', 'image': '/static/portals/free-to-use/public-domain/gardens/gardens-41.jpg', 'link': '/resource/fsa.8b14071/', 'title': 'Plants in window of Nebraska farmhouse. Photo by John Vachon, 1938.'}\n",
      "{'alt': 'Tall flowers along a fence with a two-story house in the background', 'image': '/static/portals/free-to-use/public-domain/gardens/gardens-42.jpg', 'link': '/resource/fsa.8c19781/', 'title': 'Picket fence near Faribault, Minnesota. Photo by John Vachon, 1941.'}\n",
      "{'alt': 'Illustration shows a shower of blue water over five vegetables, shown above and below ground.', 'image': '/static/portals/free-to-use/public-domain/gardens/gardens-43.jpg', 'link': '/resource/cph.3f05737/', 'title': 'Grow it yourself: Plan a farm garden now. Poster by Herbert Bayer, 1941-1943.\\n'}\n",
      "{'alt': \"In a large display of vegetable seeds a woman's hand reaches for a packet of corn.\", 'image': '/static/portals/free-to-use/public-domain/gardens/gardens-44.jpg', 'link': '/resource/fsa.8d21091/', 'title': 'Greenbelt, Maryland. Buying vegetable seeds in the Greenbelt variety store 1942.'}\n",
      "{'alt': 'Older white man poses while holding vegetables pulled from a row of the garden.', 'image': '/static/portals/free-to-use/public-domain/gardens/gardens-45.jpg', 'link': '/resource/fsa.8d31670/', 'title': 'Citizen working on Sunday morning in his victory garden, Oswego, New York. Photo by Marjory Collins, 1943.'}\n",
      "{'alt': 'Birdbath with fountain jet spouting through a fish tail.', 'image': '/static/portals/free-to-use/public-domain/gardens/gardens-46.jpg', 'link': '/resource/hhh.ca1376.photos/?sp=60', 'title': 'Bird bath, U.S. Naval Hospital, San Diego, California. Photo by Edward Gohlich, 1985.'}\n",
      "{'alt': 'A replica of the Statue of Liberty sits atop a mound decorated by rocks of different colors.\\n', 'image': '/static/portals/free-to-use/public-domain/gardens/gardens-47.jpg', 'link': '/resource/mrg.00279/', 'title': \"Petersen's Rock Garden, Statue of Liberty monument, Redmond, Oregon. Photo by John Margolies, 1987.\\n\"}\n",
      "{'alt': 'Man with a watering can is in a garden with a house and wooded hillside in background.', 'image': '/static/portals/free-to-use/public-domain/gardens/gardens-48.jpg', 'link': '/resource/afc1999008.afc1999008_crf_mhc05407/', 'title': \"Bob Jarrell's vegetable garden, West Virginia. Photo by Mary Hufford, 1996. American Folklife Center.\\n\"}\n",
      "{'alt': 'Wooden chair by a stone wall overlooks blooming flowers and a low waterfall.', 'image': '/static/portals/free-to-use/public-domain/gardens/gardens-49.jpg', 'link': '/resource/highsm.13145/', 'title': 'Detail of a garden in Virginia. Photo by Carol M. Highsmith, around 2000.'}\n",
      "{'alt': 'Blooming flowers and pond with a fountain appear in front of the large conservatory.', 'image': '/static/portals/free-to-use/public-domain/gardens/gardens-50.jpg', 'link': '/resource/highsm.58260/', 'title': 'Pond and conservatory at Hershey Gardens, Hershey, Pennsylvania.  Photo by Carol M. Highsmith, 2019.'}\n"
     ]
    }
   ],
   "source": [
    "for k in collection_json['content']['set']['items']:\n",
    "    print(k)"
   ]
  },
  {
   "cell_type": "markdown",
   "id": "d76acaa2",
   "metadata": {},
   "source": [
    "How many items are there in the set?"
   ]
  },
  {
   "cell_type": "code",
   "execution_count": 9,
   "id": "92350a24",
   "metadata": {},
   "outputs": [
    {
     "data": {
      "text/plain": [
       "50"
      ]
     },
     "execution_count": 9,
     "metadata": {},
     "output_type": "execute_result"
    }
   ],
   "source": [
    "len(collection_json['content']['set']['items'])"
   ]
  },
  {
   "cell_type": "markdown",
   "id": "ac468dae-56b8-40ba-8b20-bcb8cf629230",
   "metadata": {},
   "source": [
    " Now that you can find the list of items in the collection, note that each of these \"items\" has 3 elements: `image`, `link`, and `title`. "
   ]
  },
  {
   "cell_type": "code",
   "execution_count": 10,
   "id": "557d0ee2",
   "metadata": {},
   "outputs": [
    {
     "data": {
      "text/plain": [
       "dict_keys(['alt', 'image', 'link', 'title'])"
      ]
     },
     "execution_count": 10,
     "metadata": {},
     "output_type": "execute_result"
    }
   ],
   "source": [
    "collection_json['content']['set']['items'][0].keys()"
   ]
  },
  {
   "cell_type": "markdown",
   "id": "2ca23fb7",
   "metadata": {},
   "source": [
    "In a more fully automated environment, you might want to make a function that can return and save the collection list, then reuse it in other code, but for this task, it is useful to save the information. So, extract these and save them locally to a CSV. "
   ]
  },
  {
   "cell_type": "code",
   "execution_count": 11,
   "id": "f3dfa45e-27a2-4485-a341-2f3263dffb22",
   "metadata": {},
   "outputs": [
    {
     "name": "stdout",
     "output_type": "stream",
     "text": [
      "wrote collection_set_list_gardens.csv\n"
     ]
    }
   ],
   "source": [
    "# create a path for a CSV file, in this case to write to the collection-project directory\n",
    "collection_set_list = 'collection_set_list_gardens.csv'\n",
    "headers = ['alt', 'image','link','title']\n",
    "\n",
    "with open(collection_set_list, 'w', encoding='utf-8', newline='') as f:\n",
    "    writer = csv.DictWriter(f, fieldnames=headers)\n",
    "    writer.writeheader()\n",
    "    for item in collection_json['content']['set']['items']:\n",
    "        \n",
    "        # clean up errant spaces in the title fields\n",
    "        item['title'] = item['title'].rstrip()\n",
    "        writer.writerow(item)\n",
    "    print('wrote',collection_set_list)"
   ]
  },
  {
   "cell_type": "markdown",
   "id": "b46c6b32",
   "metadata": {},
   "source": [
    "Now you have a re-usable collection list that you can work from.\n",
    "This is useful for setting up loops in future, when you want to\n",
    "perform batch operations for each thing in the collection.\n",
    "\n",
    "The next step in this workflow development assignment is to harvest metadata for each of the individual items. Continue in the next notebook!"
   ]
  }
 ],
 "metadata": {
  "kernelspec": {
   "display_name": "Python 3",
   "language": "python",
   "name": "python3"
  },
  "language_info": {
   "codemirror_mode": {
    "name": "ipython",
    "version": 3
   },
   "file_extension": ".py",
   "mimetype": "text/x-python",
   "name": "python",
   "nbconvert_exporter": "python",
   "pygments_lexer": "ipython3",
   "version": "3.11.5"
  }
 },
 "nbformat": 4,
 "nbformat_minor": 5
}
