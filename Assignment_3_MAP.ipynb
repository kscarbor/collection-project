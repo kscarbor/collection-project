{
 "cells": [
  {
   "cell_type": "markdown",
   "metadata": {},
   "source": [
    "# Assignment 3 Metadata Application Profile\n",
    "### Introduction\n",
    "Below is an explanation of the select attributed chosen from the Library of Congress' Free to Use and Reuse: Libraries dataset. This document covers definitions of chosen attributes and crosswalk between the given term in the LOC metadata and DublinCore/MODS. Attached is a TAP csv of the metadata as well as shown below.\n",
    "### Selected Attributes (as called in the 'item' key)\n",
    "* contributors\n",
    "* control_number\n",
    "* date\n",
    "* format\n",
    "* link\n",
    "* notes\n",
    "* rights_information\n",
    "* source_collection\n",
    "* subject_headings\n",
    "* summary\n",
    "* title"
   ]
  },
  {
   "cell_type": "markdown",
   "metadata": {},
   "source": [
    "| source field name | source field path/dict name | target | target namespace | notes |\n",
    "| --- | --- | --- | --- | --- |\n",
    "| title | item['title'] | dc:title | DCTerms | Title as it appears in the Title key, note that they may be overly descriptive and long when no official title exists |\n",
    "| date | item['item']['date'] | dc:date | DCTerms | Optional as not all items have info, include if present. Human-readable, often displayed as Month, Year, or c.Year. |\n",
    "| LCCN | item['item']['control_number'] | dc:identifier | DCTerms | Library of Congress Control Number, all items appear to have one so this is marked as required unless this is proven false as not every record has been checked |\n",
    "| creators | item['item']['contributors'] | dc:creator | DCTerms | Those involved in the creation of the item, can include names, departments, often accompanied with associated role (such as photographer) and date. Each element in list a separate entry if present |\n",
    "| description | item['summary'] | dc:description | DCTerms | Description of the item, similar to an image description |\n",
    "| format | item['format'] | dc:format | DCTerms | Description of item (eg. still image). Not to be confused with Formats plural. May contain multiple elements in list |\n",
    "| subject_headings | item['subject_headings'] | mods:subject | MODS | Library of Congress Subject Headings, Each member of list a separate entry |\n",
    "| source_collection | item['source_collection'] | mods:originInfo | MODS | Written name of Source Collection as it appears in the record, as opposed to a url |\n",
    "| url | item['link'] | mods:location:url | MODS | Link to the catalog record of item, as opposed to a permalink |\n",
    "| notes | item['notes'] | mods:note | MODS | Specifc Note fields separate from Summary, usually additional relevant information about image, title source, copyright, or provenance. Each member of list a separate entry |\n",
    "| rights | item['rights_information'] | dc:right | DCTerms | Access restrictions if any, 'No known restrictions.' if none. Often accompanied with link for more information |\n"
   ]
  },
  {
   "cell_type": "markdown",
   "metadata": {},
   "source": [
    "### TAP Rows\n",
    "```csv\n",
    "shapeID,shapeLabel,propertyID,propertyLabel,valueNodeType,valueDataType,mandatory,repeatable,valueConstraint,valueConstraintType,Notes\n",
    "imageShape,Image,dc:title:title,Title,literal,xsd:string,TRUE,FALSE,,,\"Title as it appears in the Title key, note that they may be overly descriptive and long when no official title exists\"\n",
    ",,dc:date:date,Date,literal,xsd:date,FALSE,FALSE,,,\"Optional as not all items have info, include if present. Human-readable, often displayed as Month, Year, or c.Year. General date for the item, loses specificity between date created, published, etc.\"\n",
    ",,dc:identifier:control_number,LCCN,literal,xsd:string,TRUE,FALSE,,,\"Library of Congress Control Number, all items appear to have one so this is marked as required unless this is proven false as not every record has been checked\"\n",
    ",,dc:creator:contributors,Contributors,literal,xsd:string,FALSE,TRUE,,,Each element in list a separate entry if present\n",
    ",,dc:description:summary,Summary,literal,xsd:string,FALSE,TRUE,,,\"Description of the item, similar to an image description\"\n",
    ",,dc:format:format,Format,literal,xsd:string,TRUE,TRUE,,,Not to be confused with Formats plural\n",
    ",,mods:subject:subject_headings,Subject Headings,IRI,,FALSE,TRUE,https://id.loc.gov/authorities/subjects/,iriStem,\"Library of Congress Subject Headings, Each member of list a separate entry\"\n",
    ",,mods:originInfo:source_collection,Source Collection,literal,xsd:string,FALSE,FALSE,,,\"Written name of Source Collection as it appears in the record, as opposed to a url\"\n",
    ",,mods:location:url:link,URL,IRI,,TRUE,FALSE,https://www.loc.gov/item/,iriStem,\"Link to the catalog record of item, as opposed to a permalink\"\n",
    ",,mods:note:notes,Note,literal,xsd:string,FALSE,TRUE,,,\"Specifc Note fields separate from Summary, usually additional relevant information about image, title source, copyright, or provenance. Each member of list a separate entry\"\n",
    ",,dc:rights:rights_information,Rights,literal,xsd:string,FALSE,FALSE,,,Access restrictions if any\n",
    "\n",
    "```"
   ]
  },
  {
   "cell_type": "markdown",
   "metadata": {},
   "source": [
    "### Reflection\n",
    "While it was quite helpful to view the metadata output files in gaining an understanding how the various fields appeared in the records, it was hard to gain a clear understanding of what fields would be present in all records. I was uncertain as to how I could compile all of the information together from the different json files, so I picked a few different ones to look at that I hope were representative. Some fields I am near certain would show up in every item, such as title, format, and catalog record link. I have marked the LCCN as mandatory as I would hope that in a Library of Congress collection all entries would have one, but without checking file or developing a script to print the fields, I cannot say for certain. While probably not the best practice to keep it marked as mandatory, I have included this uncertainty in the Notes column. While a lengthy process and for the sake of finishing this in a vaguely timely manner I had to lessen my critical analysis of the fields, I did have fun figuring out the best fields for the information I wanted to display. The majority of my summer internship was something similar to this (without the TAP) and I spent a month and a half creating clear and specific guidelines for crosswalking between the fields of the collection, DublinCore, and PBCore. I enjoy working through it as an intellectual pursuit and found it quite fun. I try to avoid losing information when crosswalking and making this a bit unspecific so I enjoy finding the specific MODS elements that will allow me to retain more information than DublinCore. I also enjoyed figuring out how to create the TAP csv as I wanted to try something new rather than an endless amount of tables (which is a little hard to make in markdown)."
   ]
  }
 ],
 "metadata": {
  "language_info": {
   "name": "python"
  }
 },
 "nbformat": 4,
 "nbformat_minor": 2
}
